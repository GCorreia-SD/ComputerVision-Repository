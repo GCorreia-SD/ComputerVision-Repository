{
 "cells": [
  {
   "cell_type": "markdown",
   "metadata": {},
   "source": [
    "<div align=\"left\" style=\"font-weight: bold; font-family: Computer Modern; font-size: 20px; text-align: left; line-height: 1.5;\">\n",
    "    Universidade Federal da Bahia (UFBA)\n",
    "    <br>\n",
    "    Departamento de Engenharia Elétrica e da Computação (DEEC)\n",
    "    <br>\n",
    "    Disciplina: ENGG64 - Visão Computacional\n",
    "    <br>\n",
    "    Docente: André Gustavo Scolari Conceição\n",
    "    <br>\n",
    "    Discente: Gabriel Correia\n",
    "</div>\n",
    "\n",
    "\n",
    "---"
   ]
  },
  {
   "cell_type": "markdown",
   "metadata": {},
   "source": [
    "ED1 - LENA"
   ]
  },
  {
   "cell_type": "code",
   "execution_count": 111,
   "metadata": {},
   "outputs": [
    {
     "name": "stdout",
     "output_type": "stream",
     "text": [
      "Resultados Obtidos no Programa: \n"
     ]
    }
   ],
   "source": [
    "from PIL import Image\n",
    "import numpy as np\n",
    "import matplotlib.pyplot as plt\n",
    "import math\n",
    "import imageio\n",
    "\n",
    "plt.close('all')\n",
    "print('Resultados Obtidos no Programa: ')\n",
    "\n",
    "### Definindo uma função auxiliar para o movimento de Piscar da Lena\n",
    "def blink_eye_animation(lena_array, start_row, end_row, start_col, end_col, delay, num_blinks):\n",
    "    original_lena = lena_array.copy()\n",
    "    images = []  # Lista para armazenar imagens geradas\n",
    "\n",
    "    # Iniciação do Loop da piscada \n",
    "    for _ in range(num_blinks):\n",
    "        modified_lena = original_lena.copy()\n",
    "        a = 0\n",
    "\n",
    "        for row in range(start_row, end_row):\n",
    "            if row <= (start_row + end_row) / 2:\n",
    "                a = math.ceil(a + 1)\n",
    "                for col2 in range(start_col - a + 10, end_col + a - 10):\n",
    "                    modified_lena[row, col2] = modified_lena[row - 1, col2]\n",
    "                    modified_lena[row - 4, col2] = modified_lena[row - 5, col2]\n",
    "            if row == (start_row + end_row) / 2:\n",
    "                a = 0\n",
    "            if row > (start_row + end_row) / 2:\n",
    "                a = math.ceil(a + 0.8)\n",
    "                for col2 in range(start_col + a, end_col - a):\n",
    "                    modified_lena[row - 2, col2] = np.random.uniform(20, 30)\n",
    "                    modified_lena[row - 1, col2] = np.random.uniform(10, 20)\n",
    "                    modified_lena[row, col2] = np.random.uniform(0, 10)\n",
    "                    modified_lena[row - 4, col2] = modified_lena[row - 5, col2]\n",
    "                if row > ((start_row + end_row) / 2) + 6:\n",
    "                    modified_lena[row - 5, col2] = np.random.uniform(20, 30)\n",
    "                    modified_lena[row - 4, col2] = np.random.uniform(20, 30)\n",
    "                    modified_lena[row - 3, col2] = np.random.uniform(20, 30)\n",
    "                    modified_lena[row - 2, col2] = np.random.uniform(20, 30)\n",
    "                    modified_lena[row - 1, col2] = np.random.uniform(10, 20)\n",
    "                    modified_lena[row, col2] = np.random.uniform(0, 10)\n",
    "            if row % 5 == 0:\n",
    "                images.append(modified_lena.copy())\n",
    "\n",
    "        a = 0\n",
    "        for row2 in range(end_row, start_row, -1):\n",
    "            modified_lena[row2, 100:300] = original_lena[row2, 100:300]\n",
    "            if row2 % 5 == 0:\n",
    "                images.append(modified_lena.copy())\n",
    "\n",
    "    # Salvando as imagens como um vídeo em formato MP4\n",
    "    imageio.mimsave('Blinking_Eye_Lena.mp4', images, fps=30)\n",
    "\n",
    "### Lendo a imagem original da lena Lena.pgm\n",
    "lena = Image.open(\"lena.pgm\")\n",
    "lena_array = np.array(lena)\n",
    "\n",
    "### Definindo as variáveis de entrada do código\n",
    "start_row = 260\n",
    "end_row = 280\n",
    "start_col = 250\n",
    "end_col = 290\n",
    "delay = 500           # Define o tempo de piscada da Lena\n",
    "num_blinks = 5        # Define a quantidade de piscadas da Lena  \n",
    "\n",
    "### Chamando a função para simular o piscar de um olho\n",
    "blink_eye_animation(lena_array, start_row, end_row, start_col, end_col, delay, num_blinks)\n"
   ]
  }
 ],
 "metadata": {
  "kernelspec": {
   "display_name": "Python 3",
   "language": "python",
   "name": "python3"
  },
  "language_info": {
   "codemirror_mode": {
    "name": "ipython",
    "version": 3
   },
   "file_extension": ".py",
   "mimetype": "text/x-python",
   "name": "python",
   "nbconvert_exporter": "python",
   "pygments_lexer": "ipython3",
   "version": "3.11.5"
  }
 },
 "nbformat": 4,
 "nbformat_minor": 2
}
